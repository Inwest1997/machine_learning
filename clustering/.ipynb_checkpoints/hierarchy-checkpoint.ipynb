{
 "cells": [
  {
   "cell_type": "code",
   "execution_count": 3,
   "metadata": {},
   "outputs": [],
   "source": [
    "# sklearn dataset : https://scikit-learn.org/stable/datasets/index.html\n",
    "\n",
    "from sklearn.datasets import load_iris\n",
    "\n",
    "import numpy as np\n",
    "import pandas as pd\n",
    "import seaborn as sns\n",
    "import matplotlib.pyplot as plt\n",
    "import warnings\n",
    "warnings.filterwarnings(action='ignore')\n",
    "\n",
    "from sklearn.ensemble import RandomForestClassifier\n",
    "from sklearn.model_selection import train_test_split\n",
    "from sklearn.metrics import classification_report\n",
    "from sklearn.metrics import accuracy_score, recall_score, precision_score, f1_score, confusion_matrix, roc_auc_score, roc_curve, precision_recall_curve, fbeta_score\n",
    "\n",
    "from sklearn.preprocessing import StandardScaler\n",
    "from sklearn.model_selection import GridSearchCV, cross_val_score, KFold, StratifiedKFold\n",
    "from sklearn.metrics import silhouette_score, silhouette_samples\n",
    "from scipy.cluster.hierarchy import linkage, dendrogram"
   ]
  },
  {
   "cell_type": "code",
   "execution_count": 4,
   "metadata": {},
   "outputs": [],
   "source": [
    "# ---------- X : dataframe 피쳐 , clables:centroid_pred\n",
    "def myscore(X, clabels, model=None):\n",
    "    score_df = pd.DataFrame()\n",
    "    scoef = silhouette_samples(X, clabels)\n",
    "    score_df[\"scoef\"] = scoef\n",
    "    score_df[\"cluster_pred\"] = clabels\n",
    "\n",
    "    print(\"전체 평균  실루엣 계수:\", np.mean(scoef))\n",
    "    print(score_df.groupby(\"cluster_pred\")[\"scoef\"].mean())\n",
    "    \n",
    "    if model != None:\n",
    "        #inertia_ : Sum of squared distances of samples to their closest cluster center.\n",
    "        #중앙점으로부터 각 점들의 거리^2 합\n",
    "        #작을수록 중앙점으로 몰려있다 = 응집도가 높다\n",
    "        print(\"응집도 : \", model.inertia_) #응집도"
   ]
  },
  {
   "cell_type": "code",
   "execution_count": 5,
   "metadata": {},
   "outputs": [],
   "source": [
    "dataset = load_iris()\n",
    "df = pd.DataFrame(data=dataset.data,\n",
    "                  #columns=dataset.feature_names\n",
    "                  columns=['sepal_length', 'sepal_width', 'petal_length', 'petal_width']\n",
    "                  )\n",
    "# df[\"target\"] = dataset.target"
   ]
  },
  {
   "cell_type": "code",
   "execution_count": 7,
   "metadata": {},
   "outputs": [
    {
     "data": {
      "image/png": "[encoded data removed]",
      "text/plain": [
       "<Figure size 576x576 with 1 Axes>"
      ]
     },
     "metadata": {
      "needs_background": "light"
     },
     "output_type": "display_data"
    }
   ],
   "source": [
    "plt.figure(figsize=(8,4))\n",
    "matrix = linkage(df, method='single', metric='euclidean')\n",
    "dendrogram(matrix)\n",
    "plt.show()"
   ]
  },
  {
   "cell_type": "code",
   "execution_count": null,
   "metadata": {},
   "outputs": [],
   "source": []
  }
 ],
 "metadata": {
  "kernelspec": {
   "display_name": "Python 3",
   "language": "python",
   "name": "python3"
  },
  "language_info": {
   "codemirror_mode": {
    "name": "ipython",
    "version": 3
   },
   "file_extension": ".py",
   "mimetype": "text/x-python",
   "name": "python",
   "nbconvert_exporter": "python",
   "pygments_lexer": "ipython3",
   "version": "3.6.8"
  }
 },
 "nbformat": 4,
 "nbformat_minor": 4
}
